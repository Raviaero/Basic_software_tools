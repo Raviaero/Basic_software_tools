{
 "cells": [
  {
   "cell_type": "code",
   "execution_count": 1,
   "metadata": {},
   "outputs": [],
   "source": [
    "#All imports\n",
    "import pandas as pd\n",
    "import seaborn as sns"
   ]
  },
  {
   "cell_type": "code",
   "execution_count": 2,
   "metadata": {},
   "outputs": [],
   "source": [
    "#Reading Data\n",
    "df = pd.read_csv('search_cohort_raw.csv')"
   ]
  },
  {
   "cell_type": "code",
   "execution_count": 3,
   "metadata": {},
   "outputs": [
    {
     "data": {
      "text/html": [
       "<div>\n",
       "<style scoped>\n",
       "    .dataframe tbody tr th:only-of-type {\n",
       "        vertical-align: middle;\n",
       "    }\n",
       "\n",
       "    .dataframe tbody tr th {\n",
       "        vertical-align: top;\n",
       "    }\n",
       "\n",
       "    .dataframe thead th {\n",
       "        text-align: right;\n",
       "    }\n",
       "</style>\n",
       "<table border=\"1\" class=\"dataframe\">\n",
       "  <thead>\n",
       "    <tr style=\"text-align: right;\">\n",
       "      <th></th>\n",
       "      <th>user_id</th>\n",
       "      <th>date</th>\n",
       "    </tr>\n",
       "  </thead>\n",
       "  <tbody>\n",
       "    <tr>\n",
       "      <th>0</th>\n",
       "      <td>002b74eac2cc17ed73924292af0c23f7</td>\n",
       "      <td>2020-07-23</td>\n",
       "    </tr>\n",
       "    <tr>\n",
       "      <th>1</th>\n",
       "      <td>002b74eac2cc17ed73924292af0c23f7</td>\n",
       "      <td>2020-07-24</td>\n",
       "    </tr>\n",
       "    <tr>\n",
       "      <th>2</th>\n",
       "      <td>008281f5fc74d8e48bc5943da22cb40c</td>\n",
       "      <td>2020-07-27</td>\n",
       "    </tr>\n",
       "    <tr>\n",
       "      <th>3</th>\n",
       "      <td>008281f5fc74d8e48bc5943da22cb40c</td>\n",
       "      <td>2020-07-28</td>\n",
       "    </tr>\n",
       "    <tr>\n",
       "      <th>4</th>\n",
       "      <td>009c33ce2d02aa8acaafc205eaf50a66</td>\n",
       "      <td>2020-07-22</td>\n",
       "    </tr>\n",
       "  </tbody>\n",
       "</table>\n",
       "</div>"
      ],
      "text/plain": [
       "                            user_id        date\n",
       "0  002b74eac2cc17ed73924292af0c23f7  2020-07-23\n",
       "1  002b74eac2cc17ed73924292af0c23f7  2020-07-24\n",
       "2  008281f5fc74d8e48bc5943da22cb40c  2020-07-27\n",
       "3  008281f5fc74d8e48bc5943da22cb40c  2020-07-28\n",
       "4  009c33ce2d02aa8acaafc205eaf50a66  2020-07-22"
      ]
     },
     "execution_count": 3,
     "metadata": {},
     "output_type": "execute_result"
    }
   ],
   "source": [
    "df.head()"
   ]
  },
  {
   "cell_type": "code",
   "execution_count": 4,
   "metadata": {},
   "outputs": [],
   "source": [
    "#users with their first date of using app\n",
    "df2 = df.groupby('user_id').min().reset_index(level = 0).sort_values(by = ['date']).rename(columns = {'date' : 'first_date'})"
   ]
  },
  {
   "cell_type": "code",
   "execution_count": 5,
   "metadata": {},
   "outputs": [
    {
     "data": {
      "text/html": [
       "<div>\n",
       "<style scoped>\n",
       "    .dataframe tbody tr th:only-of-type {\n",
       "        vertical-align: middle;\n",
       "    }\n",
       "\n",
       "    .dataframe tbody tr th {\n",
       "        vertical-align: top;\n",
       "    }\n",
       "\n",
       "    .dataframe thead th {\n",
       "        text-align: right;\n",
       "    }\n",
       "</style>\n",
       "<table border=\"1\" class=\"dataframe\">\n",
       "  <thead>\n",
       "    <tr style=\"text-align: right;\">\n",
       "      <th></th>\n",
       "      <th>user_id</th>\n",
       "      <th>first_date</th>\n",
       "    </tr>\n",
       "  </thead>\n",
       "  <tbody>\n",
       "    <tr>\n",
       "      <th>5602</th>\n",
       "      <td>42895b582613a9a372cb0d1223478223</td>\n",
       "      <td>2020-07-22</td>\n",
       "    </tr>\n",
       "    <tr>\n",
       "      <th>5864</th>\n",
       "      <td>44cd78078ca6ab728000ecf755ae5763</td>\n",
       "      <td>2020-07-22</td>\n",
       "    </tr>\n",
       "    <tr>\n",
       "      <th>5863</th>\n",
       "      <td>44c62f42f3bf624d05d2bf3d7d35ab66</td>\n",
       "      <td>2020-07-22</td>\n",
       "    </tr>\n",
       "    <tr>\n",
       "      <th>5862</th>\n",
       "      <td>44c4b5f2cedbc2a5a48c77d8bde13681</td>\n",
       "      <td>2020-07-22</td>\n",
       "    </tr>\n",
       "    <tr>\n",
       "      <th>13171</th>\n",
       "      <td>87f77510ae17a6d6cd47ecb0a2c28d3f</td>\n",
       "      <td>2020-07-22</td>\n",
       "    </tr>\n",
       "  </tbody>\n",
       "</table>\n",
       "</div>"
      ],
      "text/plain": [
       "                                user_id  first_date\n",
       "5602   42895b582613a9a372cb0d1223478223  2020-07-22\n",
       "5864   44cd78078ca6ab728000ecf755ae5763  2020-07-22\n",
       "5863   44c62f42f3bf624d05d2bf3d7d35ab66  2020-07-22\n",
       "5862   44c4b5f2cedbc2a5a48c77d8bde13681  2020-07-22\n",
       "13171  87f77510ae17a6d6cd47ecb0a2c28d3f  2020-07-22"
      ]
     },
     "execution_count": 5,
     "metadata": {},
     "output_type": "execute_result"
    }
   ],
   "source": [
    "df2.head()"
   ]
  },
  {
   "cell_type": "code",
   "execution_count": 6,
   "metadata": {},
   "outputs": [],
   "source": [
    "#Merge operation\n",
    "df3 = pd.merge(df,df2,on='user_id')"
   ]
  },
  {
   "cell_type": "code",
   "execution_count": 7,
   "metadata": {},
   "outputs": [
    {
     "data": {
      "text/html": [
       "<div>\n",
       "<style scoped>\n",
       "    .dataframe tbody tr th:only-of-type {\n",
       "        vertical-align: middle;\n",
       "    }\n",
       "\n",
       "    .dataframe tbody tr th {\n",
       "        vertical-align: top;\n",
       "    }\n",
       "\n",
       "    .dataframe thead th {\n",
       "        text-align: right;\n",
       "    }\n",
       "</style>\n",
       "<table border=\"1\" class=\"dataframe\">\n",
       "  <thead>\n",
       "    <tr style=\"text-align: right;\">\n",
       "      <th></th>\n",
       "      <th>user_id</th>\n",
       "      <th>date</th>\n",
       "      <th>first_date</th>\n",
       "    </tr>\n",
       "  </thead>\n",
       "  <tbody>\n",
       "    <tr>\n",
       "      <th>0</th>\n",
       "      <td>002b74eac2cc17ed73924292af0c23f7</td>\n",
       "      <td>2020-07-23</td>\n",
       "      <td>2020-07-23</td>\n",
       "    </tr>\n",
       "    <tr>\n",
       "      <th>1</th>\n",
       "      <td>002b74eac2cc17ed73924292af0c23f7</td>\n",
       "      <td>2020-07-24</td>\n",
       "      <td>2020-07-23</td>\n",
       "    </tr>\n",
       "    <tr>\n",
       "      <th>2</th>\n",
       "      <td>008281f5fc74d8e48bc5943da22cb40c</td>\n",
       "      <td>2020-07-27</td>\n",
       "      <td>2020-07-27</td>\n",
       "    </tr>\n",
       "    <tr>\n",
       "      <th>3</th>\n",
       "      <td>008281f5fc74d8e48bc5943da22cb40c</td>\n",
       "      <td>2020-07-28</td>\n",
       "      <td>2020-07-27</td>\n",
       "    </tr>\n",
       "    <tr>\n",
       "      <th>4</th>\n",
       "      <td>009c33ce2d02aa8acaafc205eaf50a66</td>\n",
       "      <td>2020-07-22</td>\n",
       "      <td>2020-07-22</td>\n",
       "    </tr>\n",
       "  </tbody>\n",
       "</table>\n",
       "</div>"
      ],
      "text/plain": [
       "                            user_id        date  first_date\n",
       "0  002b74eac2cc17ed73924292af0c23f7  2020-07-23  2020-07-23\n",
       "1  002b74eac2cc17ed73924292af0c23f7  2020-07-24  2020-07-23\n",
       "2  008281f5fc74d8e48bc5943da22cb40c  2020-07-27  2020-07-27\n",
       "3  008281f5fc74d8e48bc5943da22cb40c  2020-07-28  2020-07-27\n",
       "4  009c33ce2d02aa8acaafc205eaf50a66  2020-07-22  2020-07-22"
      ]
     },
     "execution_count": 7,
     "metadata": {},
     "output_type": "execute_result"
    }
   ],
   "source": [
    "df3.head()"
   ]
  },
  {
   "cell_type": "code",
   "execution_count": 8,
   "metadata": {},
   "outputs": [],
   "source": [
    "#No. of users on each day\n",
    "df4 = df3.groupby(['first_date','date']).count().reset_index().rename(columns = {'user_id' : '#_of_users'})"
   ]
  },
  {
   "cell_type": "code",
   "execution_count": 9,
   "metadata": {},
   "outputs": [
    {
     "data": {
      "text/html": [
       "<div>\n",
       "<style scoped>\n",
       "    .dataframe tbody tr th:only-of-type {\n",
       "        vertical-align: middle;\n",
       "    }\n",
       "\n",
       "    .dataframe tbody tr th {\n",
       "        vertical-align: top;\n",
       "    }\n",
       "\n",
       "    .dataframe thead th {\n",
       "        text-align: right;\n",
       "    }\n",
       "</style>\n",
       "<table border=\"1\" class=\"dataframe\">\n",
       "  <thead>\n",
       "    <tr style=\"text-align: right;\">\n",
       "      <th></th>\n",
       "      <th>first_date</th>\n",
       "      <th>date</th>\n",
       "      <th>#_of_users</th>\n",
       "    </tr>\n",
       "  </thead>\n",
       "  <tbody>\n",
       "    <tr>\n",
       "      <th>0</th>\n",
       "      <td>2020-07-22</td>\n",
       "      <td>2020-07-22</td>\n",
       "      <td>8355</td>\n",
       "    </tr>\n",
       "    <tr>\n",
       "      <th>1</th>\n",
       "      <td>2020-07-22</td>\n",
       "      <td>2020-07-23</td>\n",
       "      <td>4081</td>\n",
       "    </tr>\n",
       "    <tr>\n",
       "      <th>2</th>\n",
       "      <td>2020-07-22</td>\n",
       "      <td>2020-07-24</td>\n",
       "      <td>3051</td>\n",
       "    </tr>\n",
       "    <tr>\n",
       "      <th>3</th>\n",
       "      <td>2020-07-22</td>\n",
       "      <td>2020-07-25</td>\n",
       "      <td>3131</td>\n",
       "    </tr>\n",
       "    <tr>\n",
       "      <th>4</th>\n",
       "      <td>2020-07-22</td>\n",
       "      <td>2020-07-26</td>\n",
       "      <td>2922</td>\n",
       "    </tr>\n",
       "  </tbody>\n",
       "</table>\n",
       "</div>"
      ],
      "text/plain": [
       "   first_date        date  #_of_users\n",
       "0  2020-07-22  2020-07-22        8355\n",
       "1  2020-07-22  2020-07-23        4081\n",
       "2  2020-07-22  2020-07-24        3051\n",
       "3  2020-07-22  2020-07-25        3131\n",
       "4  2020-07-22  2020-07-26        2922"
      ]
     },
     "execution_count": 9,
     "metadata": {},
     "output_type": "execute_result"
    }
   ],
   "source": [
    "df4.head()"
   ]
  },
  {
   "cell_type": "code",
   "execution_count": 10,
   "metadata": {},
   "outputs": [],
   "source": [
    "#No. of users on each day who used app for first time\n",
    "df5 = df4.groupby('first_date').first().reset_index().rename(columns = {'#_of_users': '#_of_users_on_first_day'}).drop('date',axis = 1)"
   ]
  },
  {
   "cell_type": "code",
   "execution_count": 11,
   "metadata": {},
   "outputs": [
    {
     "data": {
      "text/html": [
       "<div>\n",
       "<style scoped>\n",
       "    .dataframe tbody tr th:only-of-type {\n",
       "        vertical-align: middle;\n",
       "    }\n",
       "\n",
       "    .dataframe tbody tr th {\n",
       "        vertical-align: top;\n",
       "    }\n",
       "\n",
       "    .dataframe thead th {\n",
       "        text-align: right;\n",
       "    }\n",
       "</style>\n",
       "<table border=\"1\" class=\"dataframe\">\n",
       "  <thead>\n",
       "    <tr style=\"text-align: right;\">\n",
       "      <th></th>\n",
       "      <th>first_date</th>\n",
       "      <th>#_of_users_on_first_day</th>\n",
       "    </tr>\n",
       "  </thead>\n",
       "  <tbody>\n",
       "    <tr>\n",
       "      <th>0</th>\n",
       "      <td>2020-07-22</td>\n",
       "      <td>8355</td>\n",
       "    </tr>\n",
       "    <tr>\n",
       "      <th>1</th>\n",
       "      <td>2020-07-23</td>\n",
       "      <td>4882</td>\n",
       "    </tr>\n",
       "    <tr>\n",
       "      <th>2</th>\n",
       "      <td>2020-07-24</td>\n",
       "      <td>3559</td>\n",
       "    </tr>\n",
       "    <tr>\n",
       "      <th>3</th>\n",
       "      <td>2020-07-25</td>\n",
       "      <td>3630</td>\n",
       "    </tr>\n",
       "    <tr>\n",
       "      <th>4</th>\n",
       "      <td>2020-07-26</td>\n",
       "      <td>2651</td>\n",
       "    </tr>\n",
       "  </tbody>\n",
       "</table>\n",
       "</div>"
      ],
      "text/plain": [
       "   first_date  #_of_users_on_first_day\n",
       "0  2020-07-22                     8355\n",
       "1  2020-07-23                     4882\n",
       "2  2020-07-24                     3559\n",
       "3  2020-07-25                     3630\n",
       "4  2020-07-26                     2651"
      ]
     },
     "execution_count": 11,
     "metadata": {},
     "output_type": "execute_result"
    }
   ],
   "source": [
    "df5.head()"
   ]
  },
  {
   "cell_type": "code",
   "execution_count": 12,
   "metadata": {},
   "outputs": [],
   "source": [
    "#Merge Operation\n",
    "df6 = pd.merge(df4,df5,on='first_date')"
   ]
  },
  {
   "cell_type": "code",
   "execution_count": 13,
   "metadata": {},
   "outputs": [],
   "source": [
    "df6['%_of_users'] = (df6['#_of_users']/df6['#_of_users_on_first_day'])*100"
   ]
  },
  {
   "cell_type": "code",
   "execution_count": 14,
   "metadata": {},
   "outputs": [
    {
     "data": {
      "text/html": [
       "<div>\n",
       "<style scoped>\n",
       "    .dataframe tbody tr th:only-of-type {\n",
       "        vertical-align: middle;\n",
       "    }\n",
       "\n",
       "    .dataframe tbody tr th {\n",
       "        vertical-align: top;\n",
       "    }\n",
       "\n",
       "    .dataframe thead th {\n",
       "        text-align: right;\n",
       "    }\n",
       "</style>\n",
       "<table border=\"1\" class=\"dataframe\">\n",
       "  <thead>\n",
       "    <tr style=\"text-align: right;\">\n",
       "      <th></th>\n",
       "      <th>first_date</th>\n",
       "      <th>date</th>\n",
       "      <th>#_of_users</th>\n",
       "      <th>#_of_users_on_first_day</th>\n",
       "      <th>%_of_users</th>\n",
       "    </tr>\n",
       "  </thead>\n",
       "  <tbody>\n",
       "    <tr>\n",
       "      <th>0</th>\n",
       "      <td>2020-07-22</td>\n",
       "      <td>2020-07-22</td>\n",
       "      <td>8355</td>\n",
       "      <td>8355</td>\n",
       "      <td>100.000000</td>\n",
       "    </tr>\n",
       "    <tr>\n",
       "      <th>1</th>\n",
       "      <td>2020-07-22</td>\n",
       "      <td>2020-07-23</td>\n",
       "      <td>4081</td>\n",
       "      <td>8355</td>\n",
       "      <td>48.845003</td>\n",
       "    </tr>\n",
       "    <tr>\n",
       "      <th>2</th>\n",
       "      <td>2020-07-22</td>\n",
       "      <td>2020-07-24</td>\n",
       "      <td>3051</td>\n",
       "      <td>8355</td>\n",
       "      <td>36.517056</td>\n",
       "    </tr>\n",
       "    <tr>\n",
       "      <th>3</th>\n",
       "      <td>2020-07-22</td>\n",
       "      <td>2020-07-25</td>\n",
       "      <td>3131</td>\n",
       "      <td>8355</td>\n",
       "      <td>37.474566</td>\n",
       "    </tr>\n",
       "    <tr>\n",
       "      <th>4</th>\n",
       "      <td>2020-07-22</td>\n",
       "      <td>2020-07-26</td>\n",
       "      <td>2922</td>\n",
       "      <td>8355</td>\n",
       "      <td>34.973070</td>\n",
       "    </tr>\n",
       "  </tbody>\n",
       "</table>\n",
       "</div>"
      ],
      "text/plain": [
       "   first_date        date  #_of_users  #_of_users_on_first_day  %_of_users\n",
       "0  2020-07-22  2020-07-22        8355                     8355  100.000000\n",
       "1  2020-07-22  2020-07-23        4081                     8355   48.845003\n",
       "2  2020-07-22  2020-07-24        3051                     8355   36.517056\n",
       "3  2020-07-22  2020-07-25        3131                     8355   37.474566\n",
       "4  2020-07-22  2020-07-26        2922                     8355   34.973070"
      ]
     },
     "execution_count": 14,
     "metadata": {},
     "output_type": "execute_result"
    }
   ],
   "source": [
    "df6.head()"
   ]
  },
  {
   "cell_type": "code",
   "execution_count": 15,
   "metadata": {},
   "outputs": [],
   "source": [
    "df7 = df6.pivot(index = 'first_date',columns = 'date',values = '%_of_users')"
   ]
  },
  {
   "cell_type": "code",
   "execution_count": 16,
   "metadata": {},
   "outputs": [
    {
     "data": {
      "text/html": [
       "<div>\n",
       "<style scoped>\n",
       "    .dataframe tbody tr th:only-of-type {\n",
       "        vertical-align: middle;\n",
       "    }\n",
       "\n",
       "    .dataframe tbody tr th {\n",
       "        vertical-align: top;\n",
       "    }\n",
       "\n",
       "    .dataframe thead th {\n",
       "        text-align: right;\n",
       "    }\n",
       "</style>\n",
       "<table border=\"1\" class=\"dataframe\">\n",
       "  <thead>\n",
       "    <tr style=\"text-align: right;\">\n",
       "      <th>date</th>\n",
       "      <th>2020-07-22</th>\n",
       "      <th>2020-07-23</th>\n",
       "      <th>2020-07-24</th>\n",
       "      <th>2020-07-25</th>\n",
       "      <th>2020-07-26</th>\n",
       "      <th>2020-07-27</th>\n",
       "      <th>2020-07-28</th>\n",
       "      <th>2020-07-29</th>\n",
       "    </tr>\n",
       "    <tr>\n",
       "      <th>first_date</th>\n",
       "      <th></th>\n",
       "      <th></th>\n",
       "      <th></th>\n",
       "      <th></th>\n",
       "      <th></th>\n",
       "      <th></th>\n",
       "      <th></th>\n",
       "      <th></th>\n",
       "    </tr>\n",
       "  </thead>\n",
       "  <tbody>\n",
       "    <tr>\n",
       "      <th>2020-07-22</th>\n",
       "      <td>100.0</td>\n",
       "      <td>48.845003</td>\n",
       "      <td>36.517056</td>\n",
       "      <td>37.474566</td>\n",
       "      <td>34.973070</td>\n",
       "      <td>32.902454</td>\n",
       "      <td>27.755835</td>\n",
       "      <td>24.225015</td>\n",
       "    </tr>\n",
       "    <tr>\n",
       "      <th>2020-07-23</th>\n",
       "      <td>NaN</td>\n",
       "      <td>100.000000</td>\n",
       "      <td>41.990987</td>\n",
       "      <td>38.426874</td>\n",
       "      <td>36.317083</td>\n",
       "      <td>30.069644</td>\n",
       "      <td>25.727161</td>\n",
       "      <td>21.569029</td>\n",
       "    </tr>\n",
       "    <tr>\n",
       "      <th>2020-07-24</th>\n",
       "      <td>NaN</td>\n",
       "      <td>NaN</td>\n",
       "      <td>100.000000</td>\n",
       "      <td>49.002529</td>\n",
       "      <td>37.932003</td>\n",
       "      <td>31.272829</td>\n",
       "      <td>27.086260</td>\n",
       "      <td>22.197246</td>\n",
       "    </tr>\n",
       "    <tr>\n",
       "      <th>2020-07-25</th>\n",
       "      <td>NaN</td>\n",
       "      <td>NaN</td>\n",
       "      <td>NaN</td>\n",
       "      <td>100.000000</td>\n",
       "      <td>56.721763</td>\n",
       "      <td>40.082645</td>\n",
       "      <td>30.303030</td>\n",
       "      <td>24.903581</td>\n",
       "    </tr>\n",
       "    <tr>\n",
       "      <th>2020-07-26</th>\n",
       "      <td>NaN</td>\n",
       "      <td>NaN</td>\n",
       "      <td>NaN</td>\n",
       "      <td>NaN</td>\n",
       "      <td>100.000000</td>\n",
       "      <td>59.751037</td>\n",
       "      <td>40.965673</td>\n",
       "      <td>32.214259</td>\n",
       "    </tr>\n",
       "    <tr>\n",
       "      <th>2020-07-27</th>\n",
       "      <td>NaN</td>\n",
       "      <td>NaN</td>\n",
       "      <td>NaN</td>\n",
       "      <td>NaN</td>\n",
       "      <td>NaN</td>\n",
       "      <td>100.000000</td>\n",
       "      <td>71.023965</td>\n",
       "      <td>45.697168</td>\n",
       "    </tr>\n",
       "    <tr>\n",
       "      <th>2020-07-28</th>\n",
       "      <td>NaN</td>\n",
       "      <td>NaN</td>\n",
       "      <td>NaN</td>\n",
       "      <td>NaN</td>\n",
       "      <td>NaN</td>\n",
       "      <td>NaN</td>\n",
       "      <td>100.000000</td>\n",
       "      <td>100.000000</td>\n",
       "    </tr>\n",
       "  </tbody>\n",
       "</table>\n",
       "</div>"
      ],
      "text/plain": [
       "date        2020-07-22  2020-07-23  2020-07-24  2020-07-25  2020-07-26  \\\n",
       "first_date                                                               \n",
       "2020-07-22       100.0   48.845003   36.517056   37.474566   34.973070   \n",
       "2020-07-23         NaN  100.000000   41.990987   38.426874   36.317083   \n",
       "2020-07-24         NaN         NaN  100.000000   49.002529   37.932003   \n",
       "2020-07-25         NaN         NaN         NaN  100.000000   56.721763   \n",
       "2020-07-26         NaN         NaN         NaN         NaN  100.000000   \n",
       "2020-07-27         NaN         NaN         NaN         NaN         NaN   \n",
       "2020-07-28         NaN         NaN         NaN         NaN         NaN   \n",
       "\n",
       "date        2020-07-27  2020-07-28  2020-07-29  \n",
       "first_date                                      \n",
       "2020-07-22   32.902454   27.755835   24.225015  \n",
       "2020-07-23   30.069644   25.727161   21.569029  \n",
       "2020-07-24   31.272829   27.086260   22.197246  \n",
       "2020-07-25   40.082645   30.303030   24.903581  \n",
       "2020-07-26   59.751037   40.965673   32.214259  \n",
       "2020-07-27  100.000000   71.023965   45.697168  \n",
       "2020-07-28         NaN  100.000000  100.000000  "
      ]
     },
     "execution_count": 16,
     "metadata": {},
     "output_type": "execute_result"
    }
   ],
   "source": [
    "df7"
   ]
  },
  {
   "cell_type": "code",
   "execution_count": 17,
   "metadata": {},
   "outputs": [
    {
     "data": {
      "text/plain": [
       "<matplotlib.axes._subplots.AxesSubplot at 0x7f774324b828>"
      ]
     },
     "execution_count": 17,
     "metadata": {},
     "output_type": "execute_result"
    },
    {
     "data": {
      "image/png": "[encoded data removed]",
      "text/plain": [
       "<Figure size 432x288 with 2 Axes>"
      ]
     },
     "metadata": {
      "needs_background": "light"
     },
     "output_type": "display_data"
    }
   ],
   "source": [
    "#percentage of users using app on day j if they have used app for first time on day i\n",
    "sns.heatmap(df7, annot=True)"
   ]
  },
  {
   "cell_type": "code",
   "execution_count": null,
   "metadata": {},
   "outputs": [],
   "source": []
  }
 ],
 "metadata": {
  "kernelspec": {
   "display_name": "Python 3",
   "language": "python",
   "name": "python3"
  },
  "language_info": {
   "codemirror_mode": {
    "name": "ipython",
    "version": 3
   },
   "file_extension": ".py",
   "mimetype": "text/x-python",
   "name": "python",
   "nbconvert_exporter": "python",
   "pygments_lexer": "ipython3",
   "version": "3.7.3"
  }
 },
 "nbformat": 4,
 "nbformat_minor": 2
}
