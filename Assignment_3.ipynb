{
 "cells": [
  {
   "cell_type": "markdown",
   "metadata": {},
   "source": [
    "# All Imports "
   ]
  },
  {
   "cell_type": "code",
   "execution_count": 1,
   "metadata": {},
   "outputs": [],
   "source": [
    "import folium\n",
    "import pandas as pd\n",
    "import numpy as np\n",
    "from pyproj import CRS\n",
    "import geopandas as gpd\n",
    "from shapely.geometry import Point\n",
    "from sklearn.neighbors import KernelDensity\n",
    "from statsmodels.nonparametric.bandwidths import bw_silverman"
   ]
  },
  {
   "cell_type": "markdown",
   "metadata": {},
   "source": [
    "# Data Loading"
   ]
  },
  {
   "cell_type": "code",
   "execution_count": 2,
   "metadata": {},
   "outputs": [],
   "source": [
    "bus_stops = pd.read_csv('bus_stops.csv')\n",
    "hospitals = pd.read_csv('hospitals.csv')\n",
    "restaurants = pd.read_csv('restaurants.csv')"
   ]
  },
  {
   "cell_type": "markdown",
   "metadata": {},
   "source": [
    "# Data Preparation"
   ]
  },
  {
   "cell_type": "code",
   "execution_count": 3,
   "metadata": {},
   "outputs": [],
   "source": [
    "# Converting latitude and longitude into radians\n",
    "bus_stops[['latitude','longitude']]   *= np.pi/180\n",
    "hospitals[['latitude','longitude']]   *= np.pi/180\n",
    "restaurants[['latitude','longitude']] *= np.pi/180\n",
    "bus_stops['type'] = 'bus_stops'\n",
    "hospitals['type'] = 'hospitals'\n",
    "restaurants['type'] = 'restaurants'\n",
    "total_points = pd.concat([bus_stops[['latitude','longitude','type']],\n",
    "                  hospitals[['latitude','longitude','type']],\n",
    "                  restaurants[['latitude','longitude','type']]],\n",
    "                   ignore_index=True)"
   ]
  },
  {
   "cell_type": "markdown",
   "metadata": {},
   "source": [
    "# Kernel Density Estimation"
   ]
  },
  {
   "cell_type": "code",
   "execution_count": 4,
   "metadata": {},
   "outputs": [],
   "source": [
    "def kernel_density_estimator(data):\n",
    "    sb = max(bw_silverman(data[['latitude','longitude']].to_numpy()))\n",
    "    kde = KernelDensity(bandwidth=sb, metric='haversine',\n",
    "                        kernel='gaussian', algorithm='ball_tree')\n",
    "    estimator =  kde.fit(data[['latitude', 'longitude']].to_numpy())\n",
    "    return estimator"
   ]
  },
  {
   "cell_type": "markdown",
   "metadata": {},
   "source": [
    "# Estimating densities for each type of distributions"
   ]
  },
  {
   "cell_type": "code",
   "execution_count": 5,
   "metadata": {},
   "outputs": [],
   "source": [
    "bus_stops_estimator = kernel_density_estimator(bus_stops)\n",
    "hospitals_estimator = kernel_density_estimator(hospitals)\n",
    "restaurants_estimator = kernel_density_estimator(restaurants)"
   ]
  },
  {
   "cell_type": "markdown",
   "metadata": {},
   "source": [
    "# Finding best locations"
   ]
  },
  {
   "cell_type": "code",
   "execution_count": 6,
   "metadata": {},
   "outputs": [],
   "source": [
    "def find_best_coordinates(samples,w_bus,w_hos,w_rest,nbpoints = 5):\n",
    "    loc_vec = samples[['latitude','longitude']].to_numpy()\n",
    "    score_bus = bus_stops_estimator.score_samples(loc_vec)\n",
    "    score_hospitals = hospitals_estimator.score_samples(loc_vec)\n",
    "    score_restaurants = restaurants_estimator.score_samples(loc_vec)\n",
    "    total_score = (w_bus*score_bus \n",
    "                   + w_hos*score_hospitals \n",
    "                   + w_rest*score_restaurants)\n",
    "    ind_bp = np.flip(np.argsort(total_score)[-nbpoints:])\n",
    "    b_loc = samples.iloc[ind_bp]\n",
    "    b_loc.index= range(1, 6)\n",
    "    return b_loc"
   ]
  },
  {
   "cell_type": "code",
   "execution_count": 7,
   "metadata": {},
   "outputs": [],
   "source": [
    "top_locations = find_best_coordinates(samples = total_points,\n",
    "                                      w_bus=0.5,w_hos=0.2,\n",
    "                                      w_rest=0.3,\n",
    "                                      nbpoints = 5)"
   ]
  },
  {
   "cell_type": "code",
   "execution_count": 8,
   "metadata": {},
   "outputs": [
    {
     "name": "stderr",
     "output_type": "stream",
     "text": [
      "/home/ravi/anaconda3/lib/python3.7/site-packages/pandas/core/frame.py:3062: SettingWithCopyWarning: \n",
      "A value is trying to be set on a copy of a slice from a DataFrame.\n",
      "Try using .loc[row_indexer,col_indexer] = value instead\n",
      "\n",
      "See the caveats in the documentation: https://pandas.pydata.org/pandas-docs/stable/user_guide/indexing.html#returning-a-view-versus-a-copy\n",
      "  self[k1] = value[k2]\n"
     ]
    }
   ],
   "source": [
    "top_locations[['latitude','longitude']]   *= 180.0/np.pi"
   ]
  },
  {
   "cell_type": "code",
   "execution_count": 9,
   "metadata": {},
   "outputs": [
    {
     "data": {
      "text/html": [
       "<div>\n",
       "<style scoped>\n",
       "    .dataframe tbody tr th:only-of-type {\n",
       "        vertical-align: middle;\n",
       "    }\n",
       "\n",
       "    .dataframe tbody tr th {\n",
       "        vertical-align: top;\n",
       "    }\n",
       "\n",
       "    .dataframe thead th {\n",
       "        text-align: right;\n",
       "    }\n",
       "</style>\n",
       "<table border=\"1\" class=\"dataframe\">\n",
       "  <thead>\n",
       "    <tr style=\"text-align: right;\">\n",
       "      <th></th>\n",
       "      <th>latitude</th>\n",
       "      <th>longitude</th>\n",
       "      <th>type</th>\n",
       "    </tr>\n",
       "  </thead>\n",
       "  <tbody>\n",
       "    <tr>\n",
       "      <th>1</th>\n",
       "      <td>12.944839</td>\n",
       "      <td>77.571819</td>\n",
       "      <td>restaurants</td>\n",
       "    </tr>\n",
       "    <tr>\n",
       "      <th>2</th>\n",
       "      <td>12.945072</td>\n",
       "      <td>77.571343</td>\n",
       "      <td>restaurants</td>\n",
       "    </tr>\n",
       "    <tr>\n",
       "      <th>3</th>\n",
       "      <td>12.948282</td>\n",
       "      <td>77.573674</td>\n",
       "      <td>bus_stops</td>\n",
       "    </tr>\n",
       "    <tr>\n",
       "      <th>4</th>\n",
       "      <td>12.948411</td>\n",
       "      <td>77.573578</td>\n",
       "      <td>bus_stops</td>\n",
       "    </tr>\n",
       "    <tr>\n",
       "      <th>5</th>\n",
       "      <td>12.948411</td>\n",
       "      <td>77.572026</td>\n",
       "      <td>hospitals</td>\n",
       "    </tr>\n",
       "  </tbody>\n",
       "</table>\n",
       "</div>"
      ],
      "text/plain": [
       "    latitude  longitude         type\n",
       "1  12.944839  77.571819  restaurants\n",
       "2  12.945072  77.571343  restaurants\n",
       "3  12.948282  77.573674    bus_stops\n",
       "4  12.948411  77.573578    bus_stops\n",
       "5  12.948411  77.572026    hospitals"
      ]
     },
     "metadata": {},
     "output_type": "display_data"
    }
   ],
   "source": [
    "display(top_locations)"
   ]
  },
  {
   "cell_type": "markdown",
   "metadata": {},
   "source": [
    "# Visualizations"
   ]
  },
  {
   "cell_type": "markdown",
   "metadata": {},
   "source": [
    "Reference taken from code of Rukmangadh"
   ]
  },
  {
   "cell_type": "code",
   "execution_count": 10,
   "metadata": {},
   "outputs": [
    {
     "name": "stderr",
     "output_type": "stream",
     "text": [
      "/home/ravi/anaconda3/lib/python3.7/site-packages/pyproj/crs/crs.py:53: FutureWarning: '+init=<authority>:<code>' syntax is deprecated. '<authority>:<code>' is the preferred initialization method. When making the change, be mindful of axis order changes: https://pyproj4.github.io/pyproj/stable/gotchas.html#axis-order-changes-in-proj-6\n",
      "  return _prepare_from_string(\" \".join(pjargs))\n"
     ]
    },
    {
     "data": {
      "text/html": [
       "<div style=\"width:100%;\"><div style=\"position:relative;width:100%;height:0;padding-bottom:60%;\"><iframe src=\"data:text/html;charset=utf-8;base64,PCFET0NUWVBFIGh0bWw+CjxoZWFkPiAgICAKICAgIDxtZXRhIGh0dHAtZXF1aXY9ImNvbnRlbnQtdHlwZSIgY29udGVudD0idGV4dC9odG1sOyBjaGFyc2V0PVVURi04IiAvPgogICAgCiAgICAgICAgPHNjcmlwdD4KICAgICAgICAgICAgTF9OT19UT1VDSCA9IGZhbHNlOwogICAgICAgICAgICBMX0RJU0FCTEVfM0QgPSBmYWxzZTsKICAgICAgICA8L3NjcmlwdD4KICAgIAogICAgPHNjcmlwdCBzcmM9Imh0dHBzOi8vY2RuLmpzZGVsaXZyLm5ldC9ucG0vbGVhZmxldEAxLjQuMC9kaXN0L2xlYWZsZXQuanMiPjwvc2NyaXB0PgogICAgPHNjcmlwdCBzcmM9Imh0dHBzOi8vY29kZS5qcXVlcnkuY29tL2pxdWVyeS0xLjEyLjQubWluLmpzIj48L3NjcmlwdD4KICAgIDxzY3JpcHQgc3JjPSJodHRwczovL21heGNkbi5ib290c3RyYXBjZG4uY29tL2Jvb3RzdHJhcC8zLjIuMC9qcy9ib290c3RyYXAubWluLmpzIj48L3NjcmlwdD4KICAgIDxzY3JpcHQgc3JjPSJodHRwczovL2NkbmpzLmNsb3VkZmxhcmUuY29tL2FqYXgvbGlicy9MZWFmbGV0LmF3ZXNvbWUtbWFya2Vycy8yLjAuMi9sZWFmbGV0LmF3ZXNvbWUtbWFya2Vycy5qcyI+PC9zY3JpcHQ+CiAgICA8bGluayByZWw9InN0eWxlc2hlZXQiIGhyZWY9Imh0dHBzOi8vY2RuLmpzZGVsaXZyLm5ldC9ucG0vbGVhZmxldEAxLjQuMC9kaXN0L2xlYWZsZXQuY3NzIi8+CiAgICA8bGluayByZWw9InN0eWxlc2hlZXQiIGhyZWY9Imh0dHBzOi8vbWF4Y2RuLmJvb3RzdHJhcGNkbi5jb20vYm9vdHN0cmFwLzMuMi4wL2Nzcy9ib290c3RyYXAubWluLmNzcyIvPgogICAgPGxpbmsgcmVsPSJzdHlsZXNoZWV0IiBocmVmPSJodHRwczovL21heGNkbi5ib290c3RyYXBjZG4uY29tL2Jvb3RzdHJhcC8zLjIuMC9jc3MvYm9vdHN0cmFwLXRoZW1lLm1pbi5jc3MiLz4KICAgIDxsaW5rIHJlbD0ic3R5bGVzaGVldCIgaHJlZj0iaHR0cHM6Ly9tYXhjZG4uYm9vdHN0cmFwY2RuLmNvbS9mb250LWF3ZXNvbWUvNC42LjMvY3NzL2ZvbnQtYXdlc29tZS5taW4uY3NzIi8+CiAgICA8bGluayByZWw9InN0eWxlc2hlZXQiIGhyZWY9Imh0dHBzOi8vY2RuanMuY2xvdWRmbGFyZS5jb20vYWpheC9saWJzL0xlYWZsZXQuYXdlc29tZS1tYXJrZXJzLzIuMC4yL2xlYWZsZXQuYXdlc29tZS1tYXJrZXJzLmNzcyIvPgogICAgPGxpbmsgcmVsPSJzdHlsZXNoZWV0IiBocmVmPSJodHRwczovL3Jhd2Nkbi5naXRoYWNrLmNvbS9weXRob24tdmlzdWFsaXphdGlvbi9mb2xpdW0vbWFzdGVyL2ZvbGl1bS90ZW1wbGF0ZXMvbGVhZmxldC5hd2Vzb21lLnJvdGF0ZS5jc3MiLz4KICAgIDxzdHlsZT5odG1sLCBib2R5IHt3aWR0aDogMTAwJTtoZWlnaHQ6IDEwMCU7bWFyZ2luOiAwO3BhZGRpbmc6IDA7fTwvc3R5bGU+CiAgICA8c3R5bGU+I21hcCB7cG9zaXRpb246YWJzb2x1dGU7dG9wOjA7Ym90dG9tOjA7cmlnaHQ6MDtsZWZ0OjA7fTwvc3R5bGU+CiAgICAKICAgICAgICAgICAgPG1ldGEgbmFtZT0idmlld3BvcnQiIGNvbnRlbnQ9IndpZHRoPWRldmljZS13aWR0aCwKICAgICAgICAgICAgICAgIGluaXRpYWwtc2NhbGU9MS4wLCBtYXhpbXVtLXNjYWxlPTEuMCwgdXNlci1zY2FsYWJsZT1ubyIgLz4KICAgICAgICAgICAgPHN0eWxlPgogICAgICAgICAgICAgICAgI21hcF81MDYwMmNhNDJlMjE0Mzg5OGUwZjY4NzA2Njg2YjMxMSB7CiAgICAgICAgICAgICAgICAgICAgcG9zaXRpb246IHJlbGF0aXZlOwogICAgICAgICAgICAgICAgICAgIHdpZHRoOiAxMDAuMCU7CiAgICAgICAgICAgICAgICAgICAgaGVpZ2h0OiAxMDAuMCU7CiAgICAgICAgICAgICAgICAgICAgbGVmdDogMC4wJTsKICAgICAgICAgICAgICAgICAgICB0b3A6IDAuMCU7CiAgICAgICAgICAgICAgICB9CiAgICAgICAgICAgIDwvc3R5bGU+CiAgICAgICAgCjwvaGVhZD4KPGJvZHk+ICAgIAogICAgCiAgICAgICAgICAgIDxkaXYgY2xhc3M9ImZvbGl1bS1tYXAiIGlkPSJtYXBfNTA2MDJjYTQyZTIxNDM4OThlMGY2ODcwNjY4NmIzMTEiID48L2Rpdj4KICAgICAgICAKPC9ib2R5Pgo8c2NyaXB0PiAgICAKICAgIAogICAgICAgICAgICB2YXIgbWFwXzUwNjAyY2E0MmUyMTQzODk4ZTBmNjg3MDY2ODZiMzExID0gTC5tYXAoCiAgICAgICAgICAgICAgICAibWFwXzUwNjAyY2E0MmUyMTQzODk4ZTBmNjg3MDY2ODZiMzExIiwKICAgICAgICAgICAgICAgIHsKICAgICAgICAgICAgICAgICAgICBjZW50ZXI6IFsxMi45NDcwMDI5ODAwMDAwMDIsIDc3LjU3MjQ4ODA2XSwKICAgICAgICAgICAgICAgICAgICBjcnM6IEwuQ1JTLkVQU0czODU3LAogICAgICAgICAgICAgICAgICAgIHpvb206IDE0LAogICAgICAgICAgICAgICAgICAgIHpvb21Db250cm9sOiB0cnVlLAogICAgICAgICAgICAgICAgICAgIHByZWZlckNhbnZhczogZmFsc2UsCiAgICAgICAgICAgICAgICB9CiAgICAgICAgICAgICk7CgogICAgICAgICAgICAKCiAgICAgICAgCiAgICAKICAgICAgICAgICAgdmFyIHRpbGVfbGF5ZXJfMmY4YjM2ZjA4Y2VjNGRkYmFmNmU5OWY3MWNlMzE2OWYgPSBMLnRpbGVMYXllcigKICAgICAgICAgICAgICAgICJodHRwczovL3tzfS50aWxlLm9wZW5zdHJlZXRtYXAub3JnL3t6fS97eH0ve3l9LnBuZyIsCiAgICAgICAgICAgICAgICB7ImF0dHJpYnV0aW9uIjogIkRhdGEgYnkgXHUwMDI2Y29weTsgXHUwMDNjYSBocmVmPVwiaHR0cDovL29wZW5zdHJlZXRtYXAub3JnXCJcdTAwM2VPcGVuU3RyZWV0TWFwXHUwMDNjL2FcdTAwM2UsIHVuZGVyIFx1MDAzY2EgaHJlZj1cImh0dHA6Ly93d3cub3BlbnN0cmVldG1hcC5vcmcvY29weXJpZ2h0XCJcdTAwM2VPRGJMXHUwMDNjL2FcdTAwM2UuIiwgImRldGVjdFJldGluYSI6IGZhbHNlLCAibWF4TmF0aXZlWm9vbSI6IDE4LCAibWF4Wm9vbSI6IDE4LCAibWluWm9vbSI6IDAsICJub1dyYXAiOiBmYWxzZSwgIm9wYWNpdHkiOiAxLCAic3ViZG9tYWlucyI6ICJhYmMiLCAidG1zIjogZmFsc2V9CiAgICAgICAgICAgICkuYWRkVG8obWFwXzUwNjAyY2E0MmUyMTQzODk4ZTBmNjg3MDY2ODZiMzExKTsKICAgICAgICAKICAgIAogICAgICAgIGZ1bmN0aW9uIGdlb19qc29uX2E0NjkyMmYxNmEwODQ2ZDRiOTYxZjkxNWE5NmJhN2EzX29uRWFjaEZlYXR1cmUoZmVhdHVyZSwgbGF5ZXIpIHsKICAgICAgICAgICAgbGF5ZXIub24oewogICAgICAgICAgICAgICAgY2xpY2s6IGZ1bmN0aW9uKGUpIHsKICAgICAgICAgICAgICAgICAgICBtYXBfNTA2MDJjYTQyZTIxNDM4OThlMGY2ODcwNjY4NmIzMTEuZml0Qm91bmRzKGUudGFyZ2V0LmdldEJvdW5kcygpKTsKICAgICAgICAgICAgICAgIH0KICAgICAgICAgICAgfSk7CiAgICAgICAgfTsKICAgICAgICB2YXIgZ2VvX2pzb25fYTQ2OTIyZjE2YTA4NDZkNGI5NjFmOTE1YTk2YmE3YTMgPSBMLmdlb0pzb24obnVsbCwgewogICAgICAgICAgICAgICAgb25FYWNoRmVhdHVyZTogZ2VvX2pzb25fYTQ2OTIyZjE2YTA4NDZkNGI5NjFmOTE1YTk2YmE3YTNfb25FYWNoRmVhdHVyZSwKICAgICAgICAgICAgCiAgICAgICAgfSkuYWRkVG8obWFwXzUwNjAyY2E0MmUyMTQzODk4ZTBmNjg3MDY2ODZiMzExKTsKICAgICAgICAgICAgZ2VvX2pzb25fYTQ2OTIyZjE2YTA4NDZkNGI5NjFmOTE1YTk2YmE3YTMuYWRkRGF0YSh7ImJib3giOiBbNzcuNTcxMzQzLCAxMi45NDQ4Mzg4OTk5OTkxMiwgNzcuNTczNjczOTk5OTk5OTgsIDEyLjk0ODQxMDk5OTk5OTEzM10sICJmZWF0dXJlcyI6IFt7ImJib3giOiBbNzcuNTcxODE4OSwgMTIuOTQ0ODM4ODk5OTk5MTIsIDc3LjU3MTgxODksIDEyLjk0NDgzODg5OTk5OTEyXSwgImdlb21ldHJ5IjogeyJjb29yZGluYXRlcyI6IFs3Ny41NzE4MTg5LCAxMi45NDQ4Mzg4OTk5OTkxMl0sICJ0eXBlIjogIlBvaW50In0sICJpZCI6ICIwIiwgInByb3BlcnRpZXMiOiB7fSwgInR5cGUiOiAiRmVhdHVyZSJ9LCB7ImJib3giOiBbNzcuNTcxMzQzLCAxMi45NDUwNzE5OTk5OTkxMzYsIDc3LjU3MTM0MywgMTIuOTQ1MDcxOTk5OTk5MTM2XSwgImdlb21ldHJ5IjogeyJjb29yZGluYXRlcyI6IFs3Ny41NzEzNDMsIDEyLjk0NTA3MTk5OTk5OTEzNl0sICJ0eXBlIjogIlBvaW50In0sICJpZCI6ICIxIiwgInByb3BlcnRpZXMiOiB7fSwgInR5cGUiOiAiRmVhdHVyZSJ9LCB7ImJib3giOiBbNzcuNTczNjczOTk5OTk5OTgsIDEyLjk0ODI4MTk5OTk5OTEyLCA3Ny41NzM2NzM5OTk5OTk5OCwgMTIuOTQ4MjgxOTk5OTk5MTJdLCAiZ2VvbWV0cnkiOiB7ImNvb3JkaW5hdGVzIjogWzc3LjU3MzY3Mzk5OTk5OTk4LCAxMi45NDgyODE5OTk5OTkxMl0sICJ0eXBlIjogIlBvaW50In0sICJpZCI6ICIyIiwgInByb3BlcnRpZXMiOiB7fSwgInR5cGUiOiAiRmVhdHVyZSJ9LCB7ImJib3giOiBbNzcuNTczNTc4NDk5OTk5OTgsIDEyLjk0ODQxMDk5OTk5OTEzMywgNzcuNTczNTc4NDk5OTk5OTgsIDEyLjk0ODQxMDk5OTk5OTEzM10sICJnZW9tZXRyeSI6IHsiY29vcmRpbmF0ZXMiOiBbNzcuNTczNTc4NDk5OTk5OTgsIDEyLjk0ODQxMDk5OTk5OTEzM10sICJ0eXBlIjogIlBvaW50In0sICJpZCI6ICIzIiwgInByb3BlcnRpZXMiOiB7fSwgInR5cGUiOiAiRmVhdHVyZSJ9LCB7ImJib3giOiBbNzcuNTcyMDI1OTAwMDAwMDEsIDEyLjk0ODQxMDk5OTk5OTEzMywgNzcuNTcyMDI1OTAwMDAwMDEsIDEyLjk0ODQxMDk5OTk5OTEzM10sICJnZW9tZXRyeSI6IHsiY29vcmRpbmF0ZXMiOiBbNzcuNTcyMDI1OTAwMDAwMDEsIDEyLjk0ODQxMDk5OTk5OTEzM10sICJ0eXBlIjogIlBvaW50In0sICJpZCI6ICI0IiwgInByb3BlcnRpZXMiOiB7fSwgInR5cGUiOiAiRmVhdHVyZSJ9XSwgInR5cGUiOiAiRmVhdHVyZUNvbGxlY3Rpb24ifSk7CiAgICAgICAgCjwvc2NyaXB0Pg==\" style=\"position:absolute;width:100%;height:100%;left:0;top:0;border:none !important;\" allowfullscreen webkitallowfullscreen mozallowfullscreen></iframe></div></div>"
      ],
      "text/plain": [
       "<folium.folium.Map at 0x7f7c2900b160>"
      ]
     },
     "execution_count": 10,
     "metadata": {},
     "output_type": "execute_result"
    }
   ],
   "source": [
    "# convert locations to points ('x' is longitude and 'y' is latitude)\n",
    "top_points = [Point(location) for location in zip(\n",
    "    top_locations['longitude'], top_locations['latitude'])]\n",
    "gdf = gpd.GeoDataFrame({\n",
    "    #'id': best_locations['id'].to_numpy(),\n",
    "    'location_type': top_locations['type'].to_numpy(),\n",
    "    'geometry': top_points\n",
    "})  # geo dataframe\n",
    "\n",
    "# set crs - coordinate reference system\n",
    "gdf.crs = CRS.from_epsg(4326)  # latitude longitude system\n",
    "# convert to mercator system because our map is a mercator map\n",
    "gdf.to_crs(CRS.from_epsg(3395), inplace=True)\n",
    "\n",
    "# map it\n",
    "map_plot = folium.Map(location=[\n",
    "    np.mean(top_locations['latitude'].to_numpy()),\n",
    "    np.mean(top_locations['longitude'].to_numpy())], zoom_start=14)\n",
    "points_gjson = folium.features.GeoJson(gdf['geometry'], name='best_locations')\n",
    "points_gjson.add_to(map_plot)\n",
    "map_plot"
   ]
  },
  {
   "cell_type": "code",
   "execution_count": null,
   "metadata": {},
   "outputs": [],
   "source": []
  }
 ],
 "metadata": {
  "kernelspec": {
   "display_name": "Python 3",
   "language": "python",
   "name": "python3"
  },
  "language_info": {
   "codemirror_mode": {
    "name": "ipython",
    "version": 3
   },
   "file_extension": ".py",
   "mimetype": "text/x-python",
   "name": "python",
   "nbconvert_exporter": "python",
   "pygments_lexer": "ipython3",
   "version": "3.7.3"
  }
 },
 "nbformat": 4,
 "nbformat_minor": 2
}
